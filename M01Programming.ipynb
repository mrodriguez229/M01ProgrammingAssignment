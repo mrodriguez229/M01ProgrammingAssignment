{
 "cells": [
  {
   "cell_type": "markdown",
   "id": "5cd4ea5e-0153-45dc-aa68-9ecc9e78acff",
   "metadata": {},
   "source": [
    "## 3.1 How many seconds are in an hour?\n",
    "sec_in_min = 60\n",
    "min_in_hour = 60\n",
    "sec_in_hour = sec_in_min * min_in_hour\n",
    "print(sec_in_hour)\n",
    "## 3.2 Assign the result from previous task"
   ]
  },
  {
   "cell_type": "markdown",
   "id": "de65af01-734f-4e05-992b-1b790ccfb6db",
   "metadata": {},
   "source": []
  }
 ],
 "metadata": {
  "kernelspec": {
   "display_name": "Python 3 (ipykernel)",
   "language": "python",
   "name": "python3"
  },
  "language_info": {
   "codemirror_mode": {
    "name": "ipython",
    "version": 3
   },
   "file_extension": ".py",
   "mimetype": "text/x-python",
   "name": "python",
   "nbconvert_exporter": "python",
   "pygments_lexer": "ipython3",
   "version": "3.11.7"
  }
 },
 "nbformat": 4,
 "nbformat_minor": 5
}
